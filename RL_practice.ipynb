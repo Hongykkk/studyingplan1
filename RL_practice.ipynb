{
  "nbformat": 4,
  "nbformat_minor": 0,
  "metadata": {
    "colab": {
      "name": "RL_practice.ipynb",
      "provenance": [],
      "toc_visible": true,
      "authorship_tag": "ABX9TyNEI0J7EzCte/J1isZB8IQ3",
      "include_colab_link": true
    },
    "kernelspec": {
      "name": "python3",
      "display_name": "Python 3"
    }
  },
  "cells": [
    {
      "cell_type": "markdown",
      "metadata": {
        "id": "view-in-github",
        "colab_type": "text"
      },
      "source": [
        "<a href=\"https://colab.research.google.com/github/Hongykkk/studyingplan1/blob/main/RL_practice.ipynb\" target=\"_parent\"><img src=\"https://colab.research.google.com/assets/colab-badge.svg\" alt=\"Open In Colab\"/></a>"
      ]
    },
    {
      "cell_type": "code",
      "metadata": {
        "id": "zrCrnnt5wmbu"
      },
      "source": [
        "import pandas as pd\r\n",
        "import matplotlib as plt\r\n",
        "import tensorflow as tfㄴ\r\n",
        "import keras\r\n",
        "import numpy as np"
      ],
      "execution_count": 2,
      "outputs": []
    },
    {
      "cell_type": "markdown",
      "metadata": {
        "id": "oPKt3XeExFdl"
      },
      "source": [
        "뭘 학습할것이냐?????????????\r\n",
        "\r\n",
        "아직 미정"
      ]
    },
    {
      "cell_type": "markdown",
      "metadata": {
        "id": "vIveS-eextT5"
      },
      "source": [
        ""
      ]
    },
    {
      "cell_type": "code",
      "metadata": {
        "id": "OQq4hsL2xD2h"
      },
      "source": [
        ""
      ],
      "execution_count": null,
      "outputs": []
    }
  ]
}